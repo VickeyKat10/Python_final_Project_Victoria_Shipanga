{
  "cells": [
    {
      "cell_type": "code",
      "metadata": {},
      "source": [
        "title: \"Final Project Report\"\n",
        "author: \"Victoria Shipanga\"\n",
        "format: html"
      ],
      "id": "c3cb613d",
      "execution_count": null,
      "outputs": []
    },
    {
      "cell_type": "code",
      "metadata": {},
      "source": [
        "from itables import show\n",
        "import plotly.express as px"
      ],
      "id": "a7d30271",
      "execution_count": null,
      "outputs": []
    },
    {
      "cell_type": "code",
      "metadata": {},
      "source": [
        "import pandas as pd\n",
        "import numpy as np\n",
        "import plotly.express as px"
      ],
      "id": "a1808ec8",
      "execution_count": null,
      "outputs": []
    },
    {
      "cell_type": "code",
      "metadata": {},
      "source": [
        "art = pd.read_csv(\"data/art_coverage_percent_cd4_l_350.csv\")\n",
        "art"
      ],
      "id": "acb5e0eb",
      "execution_count": null,
      "outputs": []
    },
    {
      "cell_type": "code",
      "metadata": {},
      "source": [
        "print(type(art))"
      ],
      "id": "afabb4cd",
      "execution_count": null,
      "outputs": []
    },
    {
      "cell_type": "code",
      "metadata": {},
      "source": [
        "art.value_counts(dropna=False)"
      ],
      "id": "f25ca11c",
      "execution_count": null,
      "outputs": []
    },
    {
      "cell_type": "code",
      "metadata": {},
      "source": [
        "art = art.replace({np.nan:0})"
      ],
      "id": "b54f4e62",
      "execution_count": null,
      "outputs": []
    },
    {
      "cell_type": "code",
      "metadata": {},
      "source": [
        "art.tail(10)"
      ],
      "id": "99afeba2",
      "execution_count": null,
      "outputs": []
    },
    {
      "cell_type": "code",
      "metadata": {},
      "source": [
        "summary_art_stats = art.describe().loc[[\"mean\", \"min\", \"max\"]]\n",
        "print(summary_art_stats)"
      ],
      "id": "8020db43",
      "execution_count": null,
      "outputs": []
    },
    {
      "cell_type": "code",
      "metadata": {},
      "source": [
        "art_long = art.melt(id_vars=['country'], var_name='year', value_name='art_coverage')"
      ],
      "id": "f64b6683",
      "execution_count": null,
      "outputs": []
    },
    {
      "cell_type": "code",
      "metadata": {},
      "source": [
        "art_long['year'] = art_long['year'].astype(int)"
      ],
      "id": "786fd2e9",
      "execution_count": null,
      "outputs": []
    },
    {
      "cell_type": "code",
      "metadata": {},
      "source": [
        "fig_box = px.box(art_long, x=\"year\", y=\"art_coverage\", color=\"year\",\n",
        "             title=\"ART Coverage Distribution\",\n",
        "             labels={\"art_coverage\": \"ART Coverage (%)\"})\n",
        "fig_box.show()"
      ],
      "id": "707463a8",
      "execution_count": null,
      "outputs": []
    },
    {
      "cell_type": "code",
      "metadata": {},
      "source": [
        "hiv_deaths = pd.read_csv(\"data/annual_hiv_deaths_number_all_ages.csv\")\n",
        "hiv_deaths"
      ],
      "id": "3158be47",
      "execution_count": null,
      "outputs": []
    },
    {
      "cell_type": "code",
      "metadata": {},
      "source": [
        "print(type(hiv_deaths))"
      ],
      "id": "a3914b50",
      "execution_count": null,
      "outputs": []
    },
    {
      "cell_type": "code",
      "metadata": {},
      "source": [
        "hiv_deaths.value_counts(dropna=False)"
      ],
      "id": "a3f84af2",
      "execution_count": null,
      "outputs": []
    },
    {
      "cell_type": "code",
      "metadata": {},
      "source": [
        "def convert_shorthand(value):\n",
        "    if isinstance(value, str):\n",
        "        value = value.lower().replace(',', '').strip()\n",
        "        if 'k' in value:\n",
        "            try:\n",
        "                return float(value.replace('k', '')) * 1000\n",
        "            except ValueError:\n",
        "                return np.nan\n",
        "        else:\n",
        "            try:\n",
        "                return float(value)\n",
        "            except ValueError:\n",
        "                return np.nan\n",
        "    return value\n",
        "   ```\n",
        "\n",
        "```{python}\n",
        "year_columns = hiv_deaths.columns[1:]\n",
        "hiv_deaths[year_columns] = hiv_deaths[year_columns].applymap(convert_shorthand)\n",
        "hiv_deaths[year_columns].head()"
      ],
      "id": "fe83ef16",
      "execution_count": null,
      "outputs": []
    },
    {
      "cell_type": "code",
      "metadata": {},
      "source": [
        "hiv_deaths[year_columns] = hiv_deaths[year_columns].apply(pd.to_numeric, errors='coerce')"
      ],
      "id": "48a62e40",
      "execution_count": null,
      "outputs": []
    },
    {
      "cell_type": "code",
      "metadata": {},
      "source": [
        "hiv_deaths.dtypes"
      ],
      "id": "f7aee577",
      "execution_count": null,
      "outputs": []
    },
    {
      "cell_type": "code",
      "metadata": {},
      "source": [
        "hiv_deaths[year_columns] = hiv_deaths[year_columns].fillna(0)"
      ],
      "id": "893d8875",
      "execution_count": null,
      "outputs": []
    },
    {
      "cell_type": "code",
      "metadata": {},
      "source": [
        "hiv_deaths_long= hiv_deaths.melt(\n",
        "    id_vars=[\"country\"], var_name=\"year\", value_name=\"hiv_deaths\"\n",
        ")"
      ],
      "id": "c59d876b",
      "execution_count": null,
      "outputs": []
    },
    {
      "cell_type": "code",
      "metadata": {},
      "source": [
        "hiv_deaths_long[\"year\"] = hiv_deaths_long[\"year\"].astype(int)"
      ],
      "id": "5713d241",
      "execution_count": null,
      "outputs": []
    },
    {
      "cell_type": "code",
      "metadata": {},
      "source": [
        "merged_df = pd.merge(art_long, hiv_deaths_long, on=[\"country\", \"year\"], how=\"inner\")"
      ],
      "id": "23c4b215",
      "execution_count": null,
      "outputs": []
    },
    {
      "cell_type": "code",
      "metadata": {},
      "source": [
        "merged_df.fillna(0, inplace=True)"
      ],
      "id": "0f88f3a0",
      "execution_count": null,
      "outputs": []
    },
    {
      "cell_type": "code",
      "metadata": {},
      "source": [
        "selected_countries = [\"South Africa\", \"Namibia\", \"Zimbabwe\", \"Mexico\", \"Nigeria\"]"
      ],
      "id": "4ff67bfd",
      "execution_count": null,
      "outputs": []
    },
    {
      "cell_type": "code",
      "metadata": {},
      "source": [
        "sub_df = merged_df[\n",
        "    (merged_df[\"country\"].isin(selected_countries)) & (merged_df[\"year\"] == 2010)\n",
        "]"
      ],
      "id": "e8319389",
      "execution_count": null,
      "outputs": []
    },
    {
      "cell_type": "code",
      "metadata": {},
      "source": [
        "fig_bar = px.histogram(\n",
        "    sub_df,\n",
        "    x=\"country\",\n",
        "    y=\"art_coverage\",\n",
        "    color=\"country\",\n",
        "    title=\" ART Coverage in selected countries (2010)\",\n",
        "    labels={\"art_coverage\": \"ART Coverage (%)\", \"year\":\"Year\"},\n",
        ")\n",
        "fig_bar.update_layout(showlegend=False)\n",
        "fig_bar.show()\n",
        "\n",
        "## The histogram shows the ART coverge in selected countries for the year 2010, with Namibia having the highest coverage while Nigeria is the least with only about 30% coverage."
      ],
      "id": "ef4f08fa",
      "execution_count": null,
      "outputs": []
    },
    {
      "cell_type": "code",
      "metadata": {},
      "source": [
        "namibia_art_cov = art_long.query('country == \"Namibia\"')"
      ],
      "id": "61d5845f",
      "execution_count": null,
      "outputs": []
    },
    {
      "cell_type": "code",
      "metadata": {},
      "source": [
        "fig_namibia_bar = px.bar(namibia_art_cov, x='year', y='art_coverage', title=\" ART Coverage in Namibia per year\",\n",
        "labels={\"art_coverage\": \"ART Coverage (%)\"},\n",
        ")\n",
        "fig_namibia_bar.show()"
      ],
      "id": "2604408d",
      "execution_count": null,
      "outputs": []
    },
    {
      "cell_type": "markdown",
      "metadata": {},
      "source": [
        "## The above bar cahrt shows an increase of ART coverage in Namibia over the years from 2004 - 2011.\n"
      ],
      "id": "869cff9b"
    },
    {
      "cell_type": "code",
      "metadata": {},
      "source": [
        "namibia_hiv_deaths = hiv_deaths_long.query('country == \"Namibia\"')"
      ],
      "id": "2c94fbcc",
      "execution_count": null,
      "outputs": []
    },
    {
      "cell_type": "code",
      "metadata": {},
      "source": [
        "fig_namibia_line = px.line(\n",
        "    namibia_hiv_deaths,\n",
        "    x=\"year\",\n",
        "    y=\"hiv_deaths\",\n",
        "    title=\" Annual Total HIV deaths, Namibia (1990-2010)\",\n",
        "    labels={\"hiv_deaths\": \"HIV deaths (Number)\", \"year\": \"Year\"},\n",
        "    markers=True,\n",
        ")\n",
        "fig_namibia_line.show()"
      ],
      "id": "f159824b",
      "execution_count": null,
      "outputs": []
    },
    {
      "cell_type": "markdown",
      "metadata": {},
      "source": [
        "## The linegraph depicts a gradual increase in the number of HIV deaths from 1990 - 2005 and a gradual decrease from 2005 onwards.\n"
      ],
      "id": "df618c42"
    },
    {
      "cell_type": "code",
      "metadata": {},
      "source": [
        "bar_chart = px.bar(sub_df, x=\"country\", y=\"art_coverage\", title=\"ART coverage in different countries (2010)\")\n",
        "bar_chart.show()\n",
        "\n",
        "## Among the five selected countries, Namibia (90%)has a higher ART coverage followed by Mexico (79%). While Nigeria has the lowest ART coverage."
      ],
      "id": "db111920",
      "execution_count": null,
      "outputs": []
    },
    {
      "cell_type": "code",
      "metadata": {},
      "source": [
        "px.scatter(\n",
        "    merged_df,\n",
        "    x=\"art_coverage\",\n",
        "    y=\"hiv_deaths\",\n",
        "    labels={\"hiv_deaths\": \"HIV deaths (Number)\", \"art_coverage\": \"ART coverage (%)\"},\n",
        "    title=\"Relationship between ART coverage and HIV Deaths\",\n",
        ")\n",
        "## The scatter graph indicates that high ART coverage decreases the number of HIV deaths. "
      ],
      "id": "763ced22",
      "execution_count": null,
      "outputs": []
    },
    {
      "cell_type": "code",
      "metadata": {},
      "source": [
        "px.violin(hiv_deaths_long, y=\"hiv_deaths\", box=True)"
      ],
      "id": "9ccf1e03",
      "execution_count": null,
      "outputs": []
    },
    {
      "cell_type": "code",
      "metadata": {},
      "source": [
        "px.violin(hiv_deaths_long, y=\"hiv_deaths\", x=\"country\", box=True)"
      ],
      "id": "31f7ceac",
      "execution_count": null,
      "outputs": []
    },
    {
      "cell_type": "code",
      "metadata": {},
      "source": [
        "hiv_deaths[\"2000\"].describe()"
      ],
      "id": "a6b0d324",
      "execution_count": null,
      "outputs": []
    },
    {
      "cell_type": "code",
      "metadata": {},
      "source": [
        "hiv_deaths_2000 = (hiv_deaths_long.query(\"year==2000\"))\n",
        "hiv_deaths_2000.head()"
      ],
      "id": "264b1920",
      "execution_count": null,
      "outputs": []
    },
    {
      "cell_type": "code",
      "metadata": {},
      "source": [
        "fig = px.choropleth(\n",
        "    hiv_deaths_2000, \n",
        "    locations=\"country\",\n",
        "    locationmode=\"country names\",\n",
        "    color=\"hiv_deaths\",  \n",
        "    title=\"Global HIV Deaths (2000)\",\n",
        "    color_continuous_scale=\"Reds\",\n",
        ")\n",
        "fig.show()\n",
        "\n",
        "## South Africa, Zimbambwe, Nigeria, India, Kenya and Tanzania  have experienced higher HID deaths in 2000."
      ],
      "id": "cffdf12c",
      "execution_count": null,
      "outputs": []
    },
    {
      "cell_type": "code",
      "metadata": {},
      "source": [
        "fig_histogram=px.histogram(hiv_deaths_2000,        x=\"hiv_deaths\",\n",
        "y=\"country\",\n",
        "labels={\"sum of HIV deaths (Number)\": \"HIV deaths (Number)\", \"country\": \"Country\"},\n",
        "title=\"HIV Deaths in 2000\")\n",
        "fig_histogram.show()"
      ],
      "id": "88589303",
      "execution_count": null,
      "outputs": []
    },
    {
      "cell_type": "code",
      "metadata": {},
      "source": [
        "top_countries = merged_df.groupby(\"country\")[\"hiv_deaths\"].sum().nlargest(10).index\n",
        "hiv_deaths_long_top = merged_df[merged_df[\"country\"].isin(top_countries)]"
      ],
      "id": "f9c30e98",
      "execution_count": null,
      "outputs": []
    },
    {
      "cell_type": "code",
      "metadata": {},
      "source": [
        "px.scatter(hiv_deaths_long_top, x=\"hiv_deaths\", \n",
        "y=\"art_coverage\", \n",
        "size=\"hiv_deaths\",\n",
        "title=\"Relationship between HIV Deaths and ART coverage (Top 10 Countries\")\n",
        "\n",
        "## The lower the ART coverage, the higher the HIV deaths in top countries. "
      ],
      "id": "c3c737b5",
      "execution_count": null,
      "outputs": []
    },
    {
      "cell_type": "code",
      "metadata": {},
      "source": [
        "available_years = hiv_deaths_long.columns[1:]\n",
        "selected_years = [year for year in ['2004', '2008', '2010', '2011'] if year in available_years]\n",
        "selected_countries = ['South Africa', 'India', 'Nigeria', 'Russia', 'USA']"
      ],
      "id": "2c4feb41",
      "execution_count": null,
      "outputs": []
    },
    {
      "cell_type": "code",
      "metadata": {},
      "source": [
        "hiv_deaths_long_filtered = hiv_deaths_long[hiv_deaths_long['country'].isin(selected_countries)][['country'] + selected_years]"
      ],
      "id": "d397ab32",
      "execution_count": null,
      "outputs": []
    },
    {
      "cell_type": "code",
      "metadata": {},
      "source": [
        "fig_grouped_hist = px.histogram(hiv_deaths_long_filtered, x='country', color=\"country\", barnorm=\"percent\",title=\"Grouped Histogram of HIV Deaths by country\", barmode='overlay',\n",
        "     color_discrete_sequence=['#deb221', '#2f828a'])\n",
        "fig_grouped_hist.show()"
      ],
      "id": "e10fc395",
      "execution_count": null,
      "outputs": []
    }
  ],
  "metadata": {
    "kernelspec": {
      "name": "python3",
      "language": "python",
      "display_name": "Python 3 (ipykernel)",
      "path": "c:\\Users\\Victoria Shipanga\\Documents\\GitHub\\Python_final_Project_Victoria_Shipanga\\.venv\\share\\jupyter\\kernels\\python3"
    }
  },
  "nbformat": 4,
  "nbformat_minor": 5
}