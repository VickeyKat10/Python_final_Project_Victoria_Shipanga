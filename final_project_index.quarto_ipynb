{
  "cells": [
    {
      "cell_type": "code",
      "metadata": {},
      "source": [
        "title: \"Final Project Report\"\n",
        "author: \"Victoria Shipanga\"\n",
        "format: html"
      ],
      "id": "488c7724",
      "execution_count": null,
      "outputs": []
    },
    {
      "cell_type": "code",
      "metadata": {},
      "source": [
        "from itables import show\n",
        "import plotly.express as px"
      ],
      "id": "018a4bbd",
      "execution_count": null,
      "outputs": []
    }
  ],
  "metadata": {
    "kernelspec": {
      "name": "python3",
      "language": "python",
      "display_name": "Python 3 (ipykernel)",
      "path": "c:\\Users\\Victoria Shipanga\\Desktop\\graph_courses_python_2\\.venv\\share\\jupyter\\kernels\\python3"
    }
  },
  "nbformat": 4,
  "nbformat_minor": 5
}